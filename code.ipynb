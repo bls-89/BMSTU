{
 "cells": [
  {
   "attachments": {},
   "cell_type": "markdown",
   "metadata": {},
   "source": [
    "# ИМПОРТ БИБЛИОТЕК"
   ]
  },
  {
   "cell_type": "code",
   "execution_count": 5,
   "metadata": {},
   "outputs": [],
   "source": [
    "\n",
    "import scipy\n",
    "import matplotlib\n",
    "import sklearn\n",
    "import pandas as pd \n",
    "import numpy as np \n",
    "import matplotlib.pyplot as plt \n",
    "import seaborn as sns\n",
    "\n",
    "from sklearn.preprocessing import MinMaxScaler, Normalizer, LabelEncoder, StandardScaler\n",
    "from sklearn.tree import DecisionTreeClassifier \n",
    "from sklearn import tree \n",
    "from sklearn.model_selection import GridSearchCV \n",
    "from sklearn.model_selection import train_test_split, cross_val_score, RandomizedSearchCV \n",
    "from sklearn.metrics import accuracy_score \n",
    "from sklearn.cluster import KMeans \n",
    "\n",
    "\n",
    "from sklearn.model_selection import StratifiedKFold\n",
    "from sklearn.metrics import classification_report\n",
    "from sklearn.metrics import confusion_matrix\n",
    "from sklearn.metrics import accuracy_score\n",
    "from sklearn.linear_model import LogisticRegression\n",
    "from sklearn.neighbors import KNeighborsClassifier\n",
    "from sklearn.discriminant_analysis import LinearDiscriminantAnalysis\n",
    "from sklearn.naive_bayes import GaussianNB\n",
    "from sklearn.svm import SVC\n",
    "from sklearn.ensemble import RandomForestClassifier\n",
    "\n",
    "from ydata_profiling import ProfileReport\n",
    "%matplotlib inline"
   ]
  },
  {
   "attachments": {},
   "cell_type": "markdown",
   "metadata": {},
   "source": [
    "# Загрузка данных"
   ]
  },
  {
   "cell_type": "code",
   "execution_count": 13,
   "metadata": {},
   "outputs": [],
   "source": [
    "df1 = pd.read_excel(r'Датасет для ВКР_композиты\\X_bp.xlsx') \n",
    "df2 = pd.read_excel(r'Датасет для ВКР_композиты\\X_nup.xlsx')"
   ]
  },
  {
   "cell_type": "code",
   "execution_count": 16,
   "metadata": {},
   "outputs": [
    {
     "name": "stdout",
     "output_type": "stream",
     "text": [
      "<class 'pandas.core.frame.DataFrame'>\n",
      "RangeIndex: 1023 entries, 0 to 1022\n",
      "Data columns (total 11 columns):\n",
      " #   Column                                Non-Null Count  Dtype  \n",
      "---  ------                                --------------  -----  \n",
      " 0   Unnamed: 0                            1023 non-null   int64  \n",
      " 1   Соотношение матрица-наполнитель       1023 non-null   float64\n",
      " 2   Плотность, кг/м3                      1023 non-null   float64\n",
      " 3   модуль упругости, ГПа                 1023 non-null   float64\n",
      " 4   Количество отвердителя, м.%           1023 non-null   float64\n",
      " 5   Содержание эпоксидных групп,%_2       1023 non-null   float64\n",
      " 6   Температура вспышки, С_2              1023 non-null   float64\n",
      " 7   Поверхностная плотность, г/м2         1023 non-null   float64\n",
      " 8   Модуль упругости при растяжении, ГПа  1023 non-null   float64\n",
      " 9   Прочность при растяжении, МПа         1023 non-null   float64\n",
      " 10  Потребление смолы, г/м2               1023 non-null   float64\n",
      "dtypes: float64(10), int64(1)\n",
      "memory usage: 88.0 KB\n"
     ]
    }
   ],
   "source": [
    "df1.info()\n"
   ]
  },
  {
   "attachments": {},
   "cell_type": "markdown",
   "metadata": {},
   "source": [
    "Размерность датасета 1023 строки и 11 колонок. Пропусков данных не наблюдается."
   ]
  },
  {
   "cell_type": "code",
   "execution_count": 15,
   "metadata": {},
   "outputs": [
    {
     "name": "stdout",
     "output_type": "stream",
     "text": [
      "<class 'pandas.core.frame.DataFrame'>\n",
      "RangeIndex: 1040 entries, 0 to 1039\n",
      "Data columns (total 4 columns):\n",
      " #   Column              Non-Null Count  Dtype  \n",
      "---  ------              --------------  -----  \n",
      " 0   Unnamed: 0          1040 non-null   int64  \n",
      " 1   Угол нашивки, град  1040 non-null   int64  \n",
      " 2   Шаг нашивки         1040 non-null   float64\n",
      " 3   Плотность нашивки   1040 non-null   float64\n",
      "dtypes: float64(2), int64(2)\n",
      "memory usage: 32.6 KB\n"
     ]
    }
   ],
   "source": [
    "df2.info()"
   ]
  },
  {
   "attachments": {},
   "cell_type": "markdown",
   "metadata": {},
   "source": [
    "Размерность датасета 1040 строки и 4 колонок. Пропусков данных не наблюдается."
   ]
  },
  {
   "attachments": {},
   "cell_type": "markdown",
   "metadata": {},
   "source": [
    "Объединяем датасет требуемым образом INNER \n",
    "И удаляем колонку без имени."
   ]
  },
  {
   "cell_type": "code",
   "execution_count": 20,
   "metadata": {},
   "outputs": [
    {
     "name": "stdout",
     "output_type": "stream",
     "text": [
      "<class 'pandas.core.frame.DataFrame'>\n",
      "Int64Index: 1023 entries, 0 to 1022\n",
      "Data columns (total 13 columns):\n",
      " #   Column                                Non-Null Count  Dtype  \n",
      "---  ------                                --------------  -----  \n",
      " 0   Соотношение матрица-наполнитель       1023 non-null   float64\n",
      " 1   Плотность, кг/м3                      1023 non-null   float64\n",
      " 2   модуль упругости, ГПа                 1023 non-null   float64\n",
      " 3   Количество отвердителя, м.%           1023 non-null   float64\n",
      " 4   Содержание эпоксидных групп,%_2       1023 non-null   float64\n",
      " 5   Температура вспышки, С_2              1023 non-null   float64\n",
      " 6   Поверхностная плотность, г/м2         1023 non-null   float64\n",
      " 7   Модуль упругости при растяжении, ГПа  1023 non-null   float64\n",
      " 8   Прочность при растяжении, МПа         1023 non-null   float64\n",
      " 9   Потребление смолы, г/м2               1023 non-null   float64\n",
      " 10  Угол нашивки, град                    1023 non-null   int64  \n",
      " 11  Шаг нашивки                           1023 non-null   float64\n",
      " 12  Плотность нашивки                     1023 non-null   float64\n",
      "dtypes: float64(12), int64(1)\n",
      "memory usage: 111.9 KB\n"
     ]
    }
   ],
   "source": [
    "\n",
    "df = pd.merge(df1,df2,how = 'inner')\n",
    "df.drop(['Unnamed: 0'], axis=1, inplace=True)\n",
    "\n",
    "df.info()"
   ]
  },
  {
   "attachments": {},
   "cell_type": "markdown",
   "metadata": {},
   "source": [
    "Один датасет больше другого, поэтому объединенный по вышеуказанному условию будет иметь размерность 1023 строки.\n",
    "\n"
   ]
  },
  {
   "attachments": {},
   "cell_type": "markdown",
   "metadata": {},
   "source": [
    "# Основные характеристики датасета"
   ]
  },
  {
   "cell_type": "code",
   "execution_count": 21,
   "metadata": {},
   "outputs": [
    {
     "data": {
      "text/html": [
       "<div>\n",
       "<style scoped>\n",
       "    .dataframe tbody tr th:only-of-type {\n",
       "        vertical-align: middle;\n",
       "    }\n",
       "\n",
       "    .dataframe tbody tr th {\n",
       "        vertical-align: top;\n",
       "    }\n",
       "\n",
       "    .dataframe thead th {\n",
       "        text-align: right;\n",
       "    }\n",
       "</style>\n",
       "<table border=\"1\" class=\"dataframe\">\n",
       "  <thead>\n",
       "    <tr style=\"text-align: right;\">\n",
       "      <th></th>\n",
       "      <th>Соотношение матрица-наполнитель</th>\n",
       "      <th>Плотность, кг/м3</th>\n",
       "      <th>модуль упругости, ГПа</th>\n",
       "      <th>Количество отвердителя, м.%</th>\n",
       "      <th>Содержание эпоксидных групп,%_2</th>\n",
       "      <th>Температура вспышки, С_2</th>\n",
       "      <th>Поверхностная плотность, г/м2</th>\n",
       "      <th>Модуль упругости при растяжении, ГПа</th>\n",
       "      <th>Прочность при растяжении, МПа</th>\n",
       "      <th>Потребление смолы, г/м2</th>\n",
       "      <th>Угол нашивки, град</th>\n",
       "      <th>Шаг нашивки</th>\n",
       "      <th>Плотность нашивки</th>\n",
       "    </tr>\n",
       "  </thead>\n",
       "  <tbody>\n",
       "    <tr>\n",
       "      <th>0</th>\n",
       "      <td>1.857143</td>\n",
       "      <td>2030.0</td>\n",
       "      <td>738.736842</td>\n",
       "      <td>30.00</td>\n",
       "      <td>22.267857</td>\n",
       "      <td>100.000000</td>\n",
       "      <td>210.0</td>\n",
       "      <td>70.0</td>\n",
       "      <td>3000.0</td>\n",
       "      <td>220.0</td>\n",
       "      <td>0</td>\n",
       "      <td>4.0</td>\n",
       "      <td>57.0</td>\n",
       "    </tr>\n",
       "    <tr>\n",
       "      <th>1</th>\n",
       "      <td>1.857143</td>\n",
       "      <td>2030.0</td>\n",
       "      <td>738.736842</td>\n",
       "      <td>50.00</td>\n",
       "      <td>23.750000</td>\n",
       "      <td>284.615385</td>\n",
       "      <td>210.0</td>\n",
       "      <td>70.0</td>\n",
       "      <td>3000.0</td>\n",
       "      <td>220.0</td>\n",
       "      <td>0</td>\n",
       "      <td>4.0</td>\n",
       "      <td>60.0</td>\n",
       "    </tr>\n",
       "    <tr>\n",
       "      <th>2</th>\n",
       "      <td>1.857143</td>\n",
       "      <td>2030.0</td>\n",
       "      <td>738.736842</td>\n",
       "      <td>49.90</td>\n",
       "      <td>33.000000</td>\n",
       "      <td>284.615385</td>\n",
       "      <td>210.0</td>\n",
       "      <td>70.0</td>\n",
       "      <td>3000.0</td>\n",
       "      <td>220.0</td>\n",
       "      <td>0</td>\n",
       "      <td>4.0</td>\n",
       "      <td>70.0</td>\n",
       "    </tr>\n",
       "    <tr>\n",
       "      <th>3</th>\n",
       "      <td>1.857143</td>\n",
       "      <td>2030.0</td>\n",
       "      <td>738.736842</td>\n",
       "      <td>129.00</td>\n",
       "      <td>21.250000</td>\n",
       "      <td>300.000000</td>\n",
       "      <td>210.0</td>\n",
       "      <td>70.0</td>\n",
       "      <td>3000.0</td>\n",
       "      <td>220.0</td>\n",
       "      <td>0</td>\n",
       "      <td>5.0</td>\n",
       "      <td>47.0</td>\n",
       "    </tr>\n",
       "    <tr>\n",
       "      <th>4</th>\n",
       "      <td>2.771331</td>\n",
       "      <td>2030.0</td>\n",
       "      <td>753.000000</td>\n",
       "      <td>111.86</td>\n",
       "      <td>22.267857</td>\n",
       "      <td>284.615385</td>\n",
       "      <td>210.0</td>\n",
       "      <td>70.0</td>\n",
       "      <td>3000.0</td>\n",
       "      <td>220.0</td>\n",
       "      <td>0</td>\n",
       "      <td>5.0</td>\n",
       "      <td>57.0</td>\n",
       "    </tr>\n",
       "  </tbody>\n",
       "</table>\n",
       "</div>"
      ],
      "text/plain": [
       "   Соотношение матрица-наполнитель  Плотность, кг/м3  модуль упругости, ГПа  \\\n",
       "0                         1.857143            2030.0             738.736842   \n",
       "1                         1.857143            2030.0             738.736842   \n",
       "2                         1.857143            2030.0             738.736842   \n",
       "3                         1.857143            2030.0             738.736842   \n",
       "4                         2.771331            2030.0             753.000000   \n",
       "\n",
       "   Количество отвердителя, м.%  Содержание эпоксидных групп,%_2  \\\n",
       "0                        30.00                        22.267857   \n",
       "1                        50.00                        23.750000   \n",
       "2                        49.90                        33.000000   \n",
       "3                       129.00                        21.250000   \n",
       "4                       111.86                        22.267857   \n",
       "\n",
       "   Температура вспышки, С_2  Поверхностная плотность, г/м2  \\\n",
       "0                100.000000                          210.0   \n",
       "1                284.615385                          210.0   \n",
       "2                284.615385                          210.0   \n",
       "3                300.000000                          210.0   \n",
       "4                284.615385                          210.0   \n",
       "\n",
       "   Модуль упругости при растяжении, ГПа  Прочность при растяжении, МПа  \\\n",
       "0                                  70.0                         3000.0   \n",
       "1                                  70.0                         3000.0   \n",
       "2                                  70.0                         3000.0   \n",
       "3                                  70.0                         3000.0   \n",
       "4                                  70.0                         3000.0   \n",
       "\n",
       "   Потребление смолы, г/м2  Угол нашивки, град  Шаг нашивки  Плотность нашивки  \n",
       "0                    220.0                   0          4.0               57.0  \n",
       "1                    220.0                   0          4.0               60.0  \n",
       "2                    220.0                   0          4.0               70.0  \n",
       "3                    220.0                   0          5.0               47.0  \n",
       "4                    220.0                   0          5.0               57.0  "
      ]
     },
     "execution_count": 21,
     "metadata": {},
     "output_type": "execute_result"
    }
   ],
   "source": [
    "df.head()"
   ]
  },
  {
   "cell_type": "code",
   "execution_count": 23,
   "metadata": {},
   "outputs": [
    {
     "data": {
      "text/html": [
       "<div>\n",
       "<style scoped>\n",
       "    .dataframe tbody tr th:only-of-type {\n",
       "        vertical-align: middle;\n",
       "    }\n",
       "\n",
       "    .dataframe tbody tr th {\n",
       "        vertical-align: top;\n",
       "    }\n",
       "\n",
       "    .dataframe thead th {\n",
       "        text-align: right;\n",
       "    }\n",
       "</style>\n",
       "<table border=\"1\" class=\"dataframe\">\n",
       "  <thead>\n",
       "    <tr style=\"text-align: right;\">\n",
       "      <th></th>\n",
       "      <th>count</th>\n",
       "      <th>mean</th>\n",
       "      <th>std</th>\n",
       "      <th>min</th>\n",
       "      <th>25%</th>\n",
       "      <th>50%</th>\n",
       "      <th>75%</th>\n",
       "      <th>max</th>\n",
       "    </tr>\n",
       "  </thead>\n",
       "  <tbody>\n",
       "    <tr>\n",
       "      <th>Соотношение матрица-наполнитель</th>\n",
       "      <td>1023.0</td>\n",
       "      <td>2.930366</td>\n",
       "      <td>0.913222</td>\n",
       "      <td>0.389403</td>\n",
       "      <td>2.317887</td>\n",
       "      <td>2.906878</td>\n",
       "      <td>3.552660</td>\n",
       "      <td>5.591742</td>\n",
       "    </tr>\n",
       "    <tr>\n",
       "      <th>Плотность, кг/м3</th>\n",
       "      <td>1023.0</td>\n",
       "      <td>1975.734888</td>\n",
       "      <td>73.729231</td>\n",
       "      <td>1731.764635</td>\n",
       "      <td>1924.155467</td>\n",
       "      <td>1977.621657</td>\n",
       "      <td>2021.374375</td>\n",
       "      <td>2207.773481</td>\n",
       "    </tr>\n",
       "    <tr>\n",
       "      <th>модуль упругости, ГПа</th>\n",
       "      <td>1023.0</td>\n",
       "      <td>739.923233</td>\n",
       "      <td>330.231581</td>\n",
       "      <td>2.436909</td>\n",
       "      <td>500.047452</td>\n",
       "      <td>739.664328</td>\n",
       "      <td>961.812526</td>\n",
       "      <td>1911.536477</td>\n",
       "    </tr>\n",
       "    <tr>\n",
       "      <th>Количество отвердителя, м.%</th>\n",
       "      <td>1023.0</td>\n",
       "      <td>110.570769</td>\n",
       "      <td>28.295911</td>\n",
       "      <td>17.740275</td>\n",
       "      <td>92.443497</td>\n",
       "      <td>110.564840</td>\n",
       "      <td>129.730366</td>\n",
       "      <td>198.953207</td>\n",
       "    </tr>\n",
       "    <tr>\n",
       "      <th>Содержание эпоксидных групп,%_2</th>\n",
       "      <td>1023.0</td>\n",
       "      <td>22.244390</td>\n",
       "      <td>2.406301</td>\n",
       "      <td>14.254985</td>\n",
       "      <td>20.608034</td>\n",
       "      <td>22.230744</td>\n",
       "      <td>23.961934</td>\n",
       "      <td>33.000000</td>\n",
       "    </tr>\n",
       "    <tr>\n",
       "      <th>Температура вспышки, С_2</th>\n",
       "      <td>1023.0</td>\n",
       "      <td>285.882151</td>\n",
       "      <td>40.943260</td>\n",
       "      <td>100.000000</td>\n",
       "      <td>259.066528</td>\n",
       "      <td>285.896812</td>\n",
       "      <td>313.002106</td>\n",
       "      <td>413.273418</td>\n",
       "    </tr>\n",
       "    <tr>\n",
       "      <th>Поверхностная плотность, г/м2</th>\n",
       "      <td>1023.0</td>\n",
       "      <td>482.731833</td>\n",
       "      <td>281.314690</td>\n",
       "      <td>0.603740</td>\n",
       "      <td>266.816645</td>\n",
       "      <td>451.864365</td>\n",
       "      <td>693.225017</td>\n",
       "      <td>1399.542362</td>\n",
       "    </tr>\n",
       "    <tr>\n",
       "      <th>Модуль упругости при растяжении, ГПа</th>\n",
       "      <td>1023.0</td>\n",
       "      <td>73.328571</td>\n",
       "      <td>3.118983</td>\n",
       "      <td>64.054061</td>\n",
       "      <td>71.245018</td>\n",
       "      <td>73.268805</td>\n",
       "      <td>75.356612</td>\n",
       "      <td>82.682051</td>\n",
       "    </tr>\n",
       "    <tr>\n",
       "      <th>Прочность при растяжении, МПа</th>\n",
       "      <td>1023.0</td>\n",
       "      <td>2466.922843</td>\n",
       "      <td>485.628006</td>\n",
       "      <td>1036.856605</td>\n",
       "      <td>2135.850448</td>\n",
       "      <td>2459.524526</td>\n",
       "      <td>2767.193119</td>\n",
       "      <td>3848.436732</td>\n",
       "    </tr>\n",
       "    <tr>\n",
       "      <th>Потребление смолы, г/м2</th>\n",
       "      <td>1023.0</td>\n",
       "      <td>218.423144</td>\n",
       "      <td>59.735931</td>\n",
       "      <td>33.803026</td>\n",
       "      <td>179.627520</td>\n",
       "      <td>219.198882</td>\n",
       "      <td>257.481724</td>\n",
       "      <td>414.590628</td>\n",
       "    </tr>\n",
       "    <tr>\n",
       "      <th>Угол нашивки, град</th>\n",
       "      <td>1023.0</td>\n",
       "      <td>44.252199</td>\n",
       "      <td>45.015793</td>\n",
       "      <td>0.000000</td>\n",
       "      <td>0.000000</td>\n",
       "      <td>0.000000</td>\n",
       "      <td>90.000000</td>\n",
       "      <td>90.000000</td>\n",
       "    </tr>\n",
       "    <tr>\n",
       "      <th>Шаг нашивки</th>\n",
       "      <td>1023.0</td>\n",
       "      <td>6.899222</td>\n",
       "      <td>2.563467</td>\n",
       "      <td>0.000000</td>\n",
       "      <td>5.080033</td>\n",
       "      <td>6.916144</td>\n",
       "      <td>8.586293</td>\n",
       "      <td>14.440522</td>\n",
       "    </tr>\n",
       "    <tr>\n",
       "      <th>Плотность нашивки</th>\n",
       "      <td>1023.0</td>\n",
       "      <td>57.153929</td>\n",
       "      <td>12.350969</td>\n",
       "      <td>0.000000</td>\n",
       "      <td>49.799212</td>\n",
       "      <td>57.341920</td>\n",
       "      <td>64.944961</td>\n",
       "      <td>103.988901</td>\n",
       "    </tr>\n",
       "  </tbody>\n",
       "</table>\n",
       "</div>"
      ],
      "text/plain": [
       "                                       count         mean         std  \\\n",
       "Соотношение матрица-наполнитель       1023.0     2.930366    0.913222   \n",
       "Плотность, кг/м3                      1023.0  1975.734888   73.729231   \n",
       "модуль упругости, ГПа                 1023.0   739.923233  330.231581   \n",
       "Количество отвердителя, м.%           1023.0   110.570769   28.295911   \n",
       "Содержание эпоксидных групп,%_2       1023.0    22.244390    2.406301   \n",
       "Температура вспышки, С_2              1023.0   285.882151   40.943260   \n",
       "Поверхностная плотность, г/м2         1023.0   482.731833  281.314690   \n",
       "Модуль упругости при растяжении, ГПа  1023.0    73.328571    3.118983   \n",
       "Прочность при растяжении, МПа         1023.0  2466.922843  485.628006   \n",
       "Потребление смолы, г/м2               1023.0   218.423144   59.735931   \n",
       "Угол нашивки, град                    1023.0    44.252199   45.015793   \n",
       "Шаг нашивки                           1023.0     6.899222    2.563467   \n",
       "Плотность нашивки                     1023.0    57.153929   12.350969   \n",
       "\n",
       "                                              min          25%          50%  \\\n",
       "Соотношение матрица-наполнитель          0.389403     2.317887     2.906878   \n",
       "Плотность, кг/м3                      1731.764635  1924.155467  1977.621657   \n",
       "модуль упругости, ГПа                    2.436909   500.047452   739.664328   \n",
       "Количество отвердителя, м.%             17.740275    92.443497   110.564840   \n",
       "Содержание эпоксидных групп,%_2         14.254985    20.608034    22.230744   \n",
       "Температура вспышки, С_2               100.000000   259.066528   285.896812   \n",
       "Поверхностная плотность, г/м2            0.603740   266.816645   451.864365   \n",
       "Модуль упругости при растяжении, ГПа    64.054061    71.245018    73.268805   \n",
       "Прочность при растяжении, МПа         1036.856605  2135.850448  2459.524526   \n",
       "Потребление смолы, г/м2                 33.803026   179.627520   219.198882   \n",
       "Угол нашивки, град                       0.000000     0.000000     0.000000   \n",
       "Шаг нашивки                              0.000000     5.080033     6.916144   \n",
       "Плотность нашивки                        0.000000    49.799212    57.341920   \n",
       "\n",
       "                                              75%          max  \n",
       "Соотношение матрица-наполнитель          3.552660     5.591742  \n",
       "Плотность, кг/м3                      2021.374375  2207.773481  \n",
       "модуль упругости, ГПа                  961.812526  1911.536477  \n",
       "Количество отвердителя, м.%            129.730366   198.953207  \n",
       "Содержание эпоксидных групп,%_2         23.961934    33.000000  \n",
       "Температура вспышки, С_2               313.002106   413.273418  \n",
       "Поверхностная плотность, г/м2          693.225017  1399.542362  \n",
       "Модуль упругости при растяжении, ГПа    75.356612    82.682051  \n",
       "Прочность при растяжении, МПа         2767.193119  3848.436732  \n",
       "Потребление смолы, г/м2                257.481724   414.590628  \n",
       "Угол нашивки, град                      90.000000    90.000000  \n",
       "Шаг нашивки                              8.586293    14.440522  \n",
       "Плотность нашивки                       64.944961   103.988901  "
      ]
     },
     "execution_count": 23,
     "metadata": {},
     "output_type": "execute_result"
    }
   ],
   "source": [
    "df.describe().T"
   ]
  },
  {
   "attachments": {},
   "cell_type": "markdown",
   "metadata": {},
   "source": [
    "используем библиотеку ydata-profiling для удобства"
   ]
  },
  {
   "cell_type": "code",
   "execution_count": 25,
   "metadata": {},
   "outputs": [
    {
     "data": {
      "application/vnd.jupyter.widget-view+json": {
       "model_id": "f88dff4aa4104fecb580b170d4dc3aa3",
       "version_major": 2,
       "version_minor": 0
      },
      "text/plain": [
       "Summarize dataset:   0%|          | 0/5 [00:00<?, ?it/s]"
      ]
     },
     "metadata": {},
     "output_type": "display_data"
    },
    {
     "data": {
      "application/vnd.jupyter.widget-view+json": {
       "model_id": "d76552e0172a4ce58d8937c8bceb150e",
       "version_major": 2,
       "version_minor": 0
      },
      "text/plain": [
       "Generate report structure:   0%|          | 0/1 [00:00<?, ?it/s]"
      ]
     },
     "metadata": {},
     "output_type": "display_data"
    },
    {
     "data": {
      "application/vnd.jupyter.widget-view+json": {
       "model_id": "6b4a2e2a28bc491a99e11e4d207ed047",
       "version_major": 2,
       "version_minor": 0
      },
      "text/plain": [
       "Render widgets:   0%|          | 0/1 [00:00<?, ?it/s]"
      ]
     },
     "metadata": {},
     "output_type": "display_data"
    },
    {
     "data": {
      "application/vnd.jupyter.widget-view+json": {
       "model_id": "989e60dfab81421499f840e7284d1220",
       "version_major": 2,
       "version_minor": 0
      },
      "text/plain": [
       "VBox(children=(Tab(children=(Tab(children=(GridBox(children=(VBox(children=(GridspecLayout(children=(HTML(valu…"
      ]
     },
     "metadata": {},
     "output_type": "display_data"
    }
   ],
   "source": [
    "profile = ProfileReport(df, title=\"Характеристики датасета\")\n",
    "profile.to_widgets()"
   ]
  },
  {
   "attachments": {},
   "cell_type": "markdown",
   "metadata": {},
   "source": [
    "Отчет сообщает об отустствии пропузщенных ячеек, об отсутсвии дубликатов в датасете, и предполагает наличие одной категориальной переменной в датасете. Также мы можем заметить остсутсвие ярковыраженной корреляции между признаками и приблизительно нормальное распределение признаков, за исключением признака \"Поверхностная плотность, г/м2\"."
   ]
  },
  {
   "attachments": {},
   "cell_type": "markdown",
   "metadata": {},
   "source": [
    "попытаемся выявить якобы категориальный признак посредством подсчета уникальных значений в каждой колонке."
   ]
  },
  {
   "cell_type": "code",
   "execution_count": null,
   "metadata": {},
   "outputs": [],
   "source": [
    "df.nunique()"
   ]
  }
 ],
 "metadata": {
  "kernelspec": {
   "display_name": "base",
   "language": "python",
   "name": "python3"
  },
  "language_info": {
   "codemirror_mode": {
    "name": "ipython",
    "version": 3
   },
   "file_extension": ".py",
   "mimetype": "text/x-python",
   "name": "python",
   "nbconvert_exporter": "python",
   "pygments_lexer": "ipython3",
   "version": "3.9.13"
  },
  "orig_nbformat": 4,
  "vscode": {
   "interpreter": {
    "hash": "01f254512d14d34559dc809aebfeb31549e3c03bc32b6ffffafcf4b3087a72e3"
   }
  }
 },
 "nbformat": 4,
 "nbformat_minor": 2
}
